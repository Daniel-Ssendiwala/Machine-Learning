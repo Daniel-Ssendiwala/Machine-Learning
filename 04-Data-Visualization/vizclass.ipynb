{
 "cells": [
  {
   "cell_type": "markdown",
   "metadata": {},
   "source": [
    "# Introduction to data visualisation"
   ]
  },
  {
   "cell_type": "code",
   "execution_count": null,
   "metadata": {},
   "outputs": [],
   "source": [
    "# import standard pandas and numpy packages\n",
    "import pandas as pd\n",
    "import numpy as np\n",
    "\n",
    "# importing library and setting to generate figures\n",
    "import matplotlib.pyplot as plt\n",
    "%matplotlib inline\n",
    "\n",
    "# importing seaborn\n",
    "import seaborn as sns"
   ]
  },
  {
   "cell_type": "markdown",
   "metadata": {},
   "source": [
    "# Quick start - very basic plots .....what's wrong with these?"
   ]
  },
  {
   "cell_type": "markdown",
   "metadata": {},
   "source": [
    "## mathematical plot"
   ]
  },
  {
   "cell_type": "code",
   "execution_count": null,
   "metadata": {},
   "outputs": [],
   "source": [
    "# Generating toy data \n",
    "x = np.linspace(0, 5, 11) # Generate 11 numbers equally spaced between 0 and 5 inclusive\n",
    "y = x ** 2 # y = x squared"
   ]
  },
  {
   "cell_type": "code",
   "execution_count": null,
   "metadata": {},
   "outputs": [],
   "source": [
    "plt.plot(x,y)"
   ]
  },
  {
   "cell_type": "code",
   "execution_count": null,
   "metadata": {},
   "outputs": [],
   "source": [
    "# Adding basic colour and style using string notation\n",
    "plt.plot(y, x, 'r--')"
   ]
  },
  {
   "cell_type": "markdown",
   "metadata": {},
   "source": [
    "## Introducing real world data from the gapminder site"
   ]
  },
  {
   "cell_type": "code",
   "execution_count": null,
   "metadata": {},
   "outputs": [],
   "source": [
    "data = pd.read_csv('key_data.csv')\n",
    "data.tail(10)"
   ]
  },
  {
   "cell_type": "code",
   "execution_count": null,
   "metadata": {},
   "outputs": [],
   "source": [
    "# quick plot of population data\n",
    "# plt.plot(data.year, data.pop_ch)\n",
    "plt.plot(data.year, data.pop_fr)\n",
    "plt.plot(data.year, data.pop_ug)"
   ]
  },
  {
   "cell_type": "markdown",
   "metadata": {},
   "source": [
    "# Adding titles and axis labels"
   ]
  },
  {
   "cell_type": "code",
   "execution_count": null,
   "metadata": {},
   "outputs": [],
   "source": [
    "plt.plot(x, y)\n",
    "plt.xlabel('X Axis Title Here')\n",
    "plt.ylabel('Y Axis Title Here')\n",
    "plt.title('Title Here')\n",
    "plt.show()"
   ]
  },
  {
   "cell_type": "markdown",
   "metadata": {},
   "source": [
    "# Changing line colours\n",
    "https://matplotlib.org/2.0.2/api/colors_api.html\n",
    "\n",
    "basic matplotlib colours - \n",
    "b: blue,\n",
    "g: green,\n",
    "r: red,\n",
    "c: cyan,\n",
    "m: magenta,\n",
    "y: yellow,\n",
    "k: black,\n",
    "w: white,\n",
    "### Shades of grey\n",
    "color = a string between 0 and 1 depending on darkness eg color='0.75'\n",
    "### HTML color codes\n",
    "https://htmlcolorcodes.com/\n",
    "color = '#23EA1A'\n",
    "### RGB color ratios\n",
    "Tuple of the three primary colours with values between 0 and 1\n",
    "eg (1,0,0) is 'pure' red and (0, 0.5, 0.5) is bluey green\n",
    "RGBA is as above but the a stands for alpha - referring to transparency"
   ]
  },
  {
   "cell_type": "code",
   "execution_count": null,
   "metadata": {},
   "outputs": [],
   "source": [
    "# Changing line colours\n",
    "plt.plot(data.year, data.pop_ug, color = '#23EA1A') # Give column dataframe and column names as x and y values\n",
    "plt.xlabel('Year')\n",
    "plt.ylabel('Population')\n",
    "plt.title('Population of Uganda (tens of millions)')\n",
    "plt.show()"
   ]
  },
  {
   "cell_type": "markdown",
   "metadata": {},
   "source": [
    "# Changing line width, style and markers"
   ]
  },
  {
   "cell_type": "code",
   "execution_count": null,
   "metadata": {},
   "outputs": [],
   "source": [
    "# plotting lines y= x + ? to shift line up with each new style\n",
    "plt.plot(x, x+1, color=\"red\", linewidth=0.25)\n",
    "plt.plot(x, x+2, color=\"red\", linewidth=0.50)\n",
    "plt.plot(x, x+3, color=\"red\", linewidth=1.00)\n",
    "plt.plot(x, x+4, color=\"red\", linewidth=2.00)\n",
    "\n",
    "# possible linestype options ‘-‘, ‘–’, ‘-.’, ‘:’, ‘steps’\n",
    "# https://matplotlib.org/gallery/lines_bars_and_markers/line_styles_reference.html\n",
    "\n",
    "plt.plot(x, x+5, color=\"green\", lw=3, linestyle='-')\n",
    "plt.plot(x, x+6, color=\"green\", lw=3, ls='-.')\n",
    "plt.plot(x, x+7, color=\"green\", lw=3, ls=':')\n",
    "\n",
    "# possible marker symbols: marker = '+', 'o', '*', 's', ',', '.', '1', '2', '3', '4', ...\n",
    "# https://matplotlib.org/api/markers_api.html\n",
    "plt.plot(x, x+ 9, color=\"blue\", lw=3, ls='-', marker='+')\n",
    "plt.plot(x, x+10, color=\"blue\", lw=3, ls='--', marker='o')\n",
    "plt.plot(x, x+11, color=\"blue\", lw=3, ls='-', marker='s')\n",
    "plt.plot(x, x+12, color=\"blue\", lw=3, ls='--', marker='2')\n",
    "\n",
    "# marker size and color - using markerfacecolor, markeredgewidth and markeredgecolor\n",
    "plt.plot(x, x+13, color=\"purple\", lw=1, ls='-', marker='o', markersize=2)\n",
    "plt.plot(x, x+14, color=\"purple\", lw=1, ls='-', marker='o', markersize=4)\n",
    "plt.plot(x, x+15, color=\"purple\", lw=1, ls='-', marker='o', markersize=8, markerfacecolor=\"red\")\n",
    "plt.plot(x, x+16, color=\"purple\", lw=1, ls='-', marker='s', markersize=8, \n",
    "        markerfacecolor=\"yellow\", markeredgewidth=3, markeredgecolor=\"green\");"
   ]
  },
  {
   "cell_type": "markdown",
   "metadata": {},
   "source": [
    "# Tick size and labels"
   ]
  },
  {
   "cell_type": "code",
   "execution_count": null,
   "metadata": {},
   "outputs": [],
   "source": [
    "# Changing which ticks are shown other than default eg every 25 years\n",
    "plt.plot(data.year, data.pop_ug)\n",
    "plt.plot(data.year, data.pop_fr)\n",
    "plt.xlabel('Year')\n",
    "plt.ylabel('Population (billions)')\n",
    "plt.title('Population over time')\n",
    "# plt.xticks([1900, 1925, 1950, 1975, 2000, 1925])\n",
    "# plt.ticklabel_format(style='sci', axis='y',scilimits=(5,5))\n",
    "plt.show()"
   ]
  },
  {
   "cell_type": "code",
   "execution_count": null,
   "metadata": {},
   "outputs": [],
   "source": [
    "# Changing which ticks are shown other than default eg every 25 years\n",
    "plt.plot(data.year, data.pop_ug)\n",
    "plt.plot(data.year, data.pop_fr)\n",
    "plt.plot(data.year, data.pop_ch)\n",
    "plt.xlabel('Year')\n",
    "plt.ylabel('Population (billions)')\n",
    "plt.title('Population over time')\n",
    "# plt.xticks([1900, 1925, 1950, 1975, 2000, 1925])\n",
    "# plt.ticklabel_format(style='sci', axis='y',scilimits=(5,5))\n",
    "plt.show()"
   ]
  },
  {
   "cell_type": "code",
   "execution_count": null,
   "metadata": {},
   "outputs": [],
   "source": [
    "# Introducing a log scale to one of the axes\n",
    "plt.plot(data.year, data.pop_ug)\n",
    "plt.plot(data.year, data.pop_fr)\n",
    "plt.plot(data.year, data.pop_ch)\n",
    "plt.xlabel('Year')\n",
    "plt.ylabel('log Population')\n",
    "plt.title('Population over time')\n",
    "plt.yscale('log')\n",
    "# plt.xticks([1900, 1925, 1950, 1975, 2000, 1925])\n",
    "# plt.ticklabel_format(style='sci', axis='y',scilimits=(5,5))\n",
    "plt.show()"
   ]
  },
  {
   "cell_type": "markdown",
   "metadata": {},
   "source": [
    "## Changing limits or range of the graph"
   ]
  },
  {
   "cell_type": "code",
   "execution_count": null,
   "metadata": {},
   "outputs": [],
   "source": [
    "# For example only interested in lookint at dates from 1960 to 2020\n",
    "plt.plot(data.year, data.pop_ug)\n",
    "plt.plot(data.year, data.pop_fr)\n",
    "plt.xlabel('Year')\n",
    "plt.ylabel('Population (tens of millions)')\n",
    "plt.title('Population over time')\n",
    "plt.xlim(1960, 2020)\n",
    "plt.xticks(np.arange(1960, 2020, 5))     # setting ticks at 5 year intervals between 1960 and 2020\n",
    "plt.show()"
   ]
  },
  {
   "cell_type": "markdown",
   "metadata": {},
   "source": [
    "## Changing your spines"
   ]
  },
  {
   "cell_type": "code",
   "execution_count": null,
   "metadata": {},
   "outputs": [],
   "source": [
    "# Hide the right and top spines\n",
    "# For example only interested in lookint at dates from 1960 to 2020\n",
    "plt.plot(data.year, data.pop_ug)\n",
    "plt.plot(data.year, data.pop_fr)\n",
    "\n",
    "plt.xlabel('Year')\n",
    "plt.ylabel('Population (tens of millions)')\n",
    "plt.title('Population over time')\n",
    "\n",
    "plt.xlim(1960, 2020)\n",
    "plt.xticks(np.arange(1960, 2020, 5))     # setting ticks at 5 year intervals between 1960 and 2020\n",
    "plt.show()"
   ]
  },
  {
   "cell_type": "markdown",
   "metadata": {},
   "source": [
    "## The location of the legend. \n",
    "To generate a legend simply plot plt.legend(). Matplotlib will choose style and location\n",
    "To position the legend box use parameter loc=  followed by the following string or numeric codes\n",
    "\n",
    "'best'\t0, \n",
    "'upper right'\t1, \n",
    "'upper left'\t2, \n",
    "'lower left'\t3, \n",
    "'lower right'\t4, \n",
    "'right'\t5, \n",
    "'center left'\t6, \n",
    "'center right'\t7, \n",
    "'lower center'\t8, \n",
    "'upper center'\t9, \n",
    "'center'\t10"
   ]
  },
  {
   "cell_type": "code",
   "execution_count": null,
   "metadata": {},
   "outputs": [],
   "source": [
    "# Adding a legend\n",
    "plt.plot(data.year, data.pop_ug)        # to avoid using column name add parameter , label = 'Uganda'\n",
    "plt.plot(data.year, data.pop_fr)        # to avoid using column name add the parameter , label = 'France'\n",
    "plt.xlabel('Year')\n",
    "plt.ylabel('Population (tens of millions)')\n",
    "plt.title('Population over time')\n",
    "plt.xlim(1960, 2020)\n",
    "plt.xticks(np.arange(1960, 2020, 5))\n",
    "\n",
    "# add the method plt.legend() to generate a legend in the 'best' place\n",
    "plt.legend()\n",
    "# plt.legend(loc=5)  # refer to the above strings and codes\n",
    "# plt.legend(bbox_to_anchor = (0.5, 0.5)) # proportion of the way across the x axis and up the y axis from 0 to 1\n",
    "                                          # greater than 1 places legend outside the axis\n",
    "plt.show()"
   ]
  },
  {
   "cell_type": "markdown",
   "metadata": {},
   "source": [
    "# More complex plotting - figure and axes as separate objects"
   ]
  },
  {
   "cell_type": "markdown",
   "metadata": {},
   "source": [
    "In order to adjust figure size, add multiple subplots to the same figure and to sync in with seaborn a slightly different format is required. \n",
    "\n",
    "Instead of treating the figure as the object by default we now consider the figure and the axis as different objects with their own methods\n",
    "\n",
    "The following format allows us to create a figure (ie the full image) and a number of axes (even if that is only 1)"
   ]
  },
  {
   "cell_type": "code",
   "execution_count": null,
   "metadata": {},
   "outputs": [],
   "source": [
    "# Introducing the object oriented notation for a single axes object\n",
    "# This allows us to manipulate the figuresize and resolution depending on final output\n",
    "\n",
    "fig, ax = plt.subplots(figsize=(20,4), dpi=200)    # default is 8, 6 ie 8 wide, 6 high, default dpi is 100\n",
    "plt.plot(x, y)\n",
    "plt.xlabel('X Axis Title Here')\n",
    "plt.ylabel('Y Axis Title Here')\n",
    "plt.title('String Title Here')\n",
    "plt.show()"
   ]
  },
  {
   "cell_type": "code",
   "execution_count": null,
   "metadata": {},
   "outputs": [],
   "source": [
    "# Changing which ticks are shown other than default eg every 25 years\n",
    "fig, ax = plt.subplots(figsize=(20,4))\n",
    "plt.plot(data.year, data.pop_ug, label='Uganda')\n",
    "plt.plot(data.year, data.pop_fr, label = 'France')\n",
    "plt.xlabel('Year')\n",
    "plt.ylabel('Population (tens of millions)')\n",
    "plt.title('Population over time')\n",
    "plt.legend(loc=4)\n",
    "plt.show()"
   ]
  },
  {
   "cell_type": "markdown",
   "metadata": {},
   "source": [
    "# Plotting more than one axis in a figure\n",
    "### must use the format \n",
    "    fig, ax = plt.subplots(nrows=  , ncols= , figsize=( , ) )\n",
    "### must use ax1, ax2.... tuple to name axes\n",
    "    fig, (ax1, ax2) = plt.subplots(nrows=  , ncols= , figsize=( , ) )\n",
    "### must state number of rows,number of columns of axes\n",
    "    nrows = number of rows of axes to include in the figure\n",
    "    ncoles = number of columns of axes to include int he figure\n",
    "### Our object now becomes the axis rather than the figure and we have to prefix methods with 'set_'"
   ]
  },
  {
   "cell_type": "code",
   "execution_count": null,
   "metadata": {},
   "outputs": [],
   "source": [
    "# For a plot with 2 horizontal axes\n",
    "fig, (ax1, ax2) = plt.subplots(nrows=1, ncols=2, figsize=(20,4), dpi=100)\n",
    "\n",
    "# parameters affecting axis 1\n",
    "ax1.plot(data.year, data.pop_ug, 'g--', label='Uganda', lw=4, )\n",
    "ax1.set_xlabel('Year')\n",
    "ax1.set_ylabel('Population')\n",
    "ax1.set_title('Population of Uganda')\n",
    "\n",
    "#parameters affecting axis 2\n",
    "ax2.plot(data.year, data.pop_fr, 'r.', label = 'France')\n",
    "ax2.set_xlabel('Year')\n",
    "ax2.set_ylabel('Population')\n",
    "ax2.set_title('Population of France')\n",
    "\n",
    "#parameters affecting the whole figure\n",
    "fig.show()"
   ]
  },
  {
   "cell_type": "code",
   "execution_count": null,
   "metadata": {},
   "outputs": [],
   "source": [
    "# For a plot with 2 vertical axes\n",
    "fig, (ax1, ax2) = plt.subplots(nrows=2, ncols=1, figsize=(6,6), dpi=100)\n",
    "\n",
    "# parameters affecting axis 1\n",
    "ax1.plot(data.year, data.pop_ug, 'g--', label='Uganda', lw=4, )\n",
    "ax1.set_xlabel('Year')\n",
    "ax1.set_ylabel('Population')\n",
    "ax1.set_title('Population of Uganda')\n",
    "# ax1.ticklabel_format(style='sci', axis='y',scilimits=(5,5))\n",
    "# Removing the spines\n",
    "ax1.spines['right'].set_visible(False)\n",
    "ax1.spines['top'].set_visible(False)\n",
    "\n",
    "#parameters affecting axis 2\n",
    "ax2.plot(data.year, data.pop_fr, 'r.', label = 'France')\n",
    "ax2.set_xlabel('Year')\n",
    "ax2.set_ylabel('Population')\n",
    "ax2.set_title('Population of France')\n",
    "# removing the spines\n",
    "ax2.spines['right'].set_visible(False)\n",
    "ax2.spines['top'].set_visible(False)\n",
    "\n",
    "#parameters affecting the whole figure\n",
    "fig.suptitle('Comparison of population changes between Uganda and France 1900 - 2000', y=1.05)\n",
    "fig.tight_layout()\n",
    "fig.show()"
   ]
  },
  {
   "cell_type": "markdown",
   "metadata": {
    "scrolled": true
   },
   "source": [
    "# Special plot types"
   ]
  },
  {
   "cell_type": "markdown",
   "metadata": {},
   "source": [
    "## Scatter plot"
   ]
  },
  {
   "cell_type": "code",
   "execution_count": null,
   "metadata": {},
   "outputs": [],
   "source": [
    "fig, (ax1, ax2, ax3) = plt.subplots(1,3,figsize=(20, 4))\n",
    "\n",
    "ax1.scatter(data.pop_ug, data.life_exp_ug, color='b')\n",
    "ax1.set_xlabel('Population')\n",
    "ax1.set_ylabel('Life expectancy')\n",
    "ax1.set_title('Uganda: Population size vs life expectancy')\n",
    "\n",
    "ax2.scatter(data.pop_ch, data.life_exp_ch, color='r')\n",
    "ax2.set_xlabel('Population')\n",
    "ax2.set_ylabel('Life expectancy')\n",
    "ax2.set_title('China: Population size vs life expectancy')\n",
    "\n",
    "ax3.scatter(data.pop_fr, data.life_exp_fr, color='m')\n",
    "ax3.set_xlabel('Population')\n",
    "ax3.set_ylabel('Life expectancy')\n",
    "ax3.set_title('France: Population size vs life expectancy')\n",
    "\n",
    "fig.show()"
   ]
  },
  {
   "cell_type": "markdown",
   "metadata": {},
   "source": [
    "# histogram"
   ]
  },
  {
   "cell_type": "markdown",
   "metadata": {},
   "source": [
    "This shows the distribution of a single column of data. Ideal for test scores, ages etc so not perfect in this case but we can still make it work. NaNs or missing values have to be either dropped or replaced before this can work"
   ]
  },
  {
   "cell_type": "code",
   "execution_count": null,
   "metadata": {},
   "outputs": [],
   "source": [
    "plt.hist(data.life_exp_ch)\n",
    "plt.xlabel('Life expectancy in years')\n",
    "plt.ylabel('Number of years')\n",
    "plt.title('China: Number of years with given life expectancy 1900-2018')\n",
    "plt.show()"
   ]
  },
  {
   "cell_type": "markdown",
   "metadata": {},
   "source": [
    "# See also barplot and boxplot"
   ]
  },
  {
   "cell_type": "code",
   "execution_count": null,
   "metadata": {},
   "outputs": [],
   "source": []
  },
  {
   "cell_type": "code",
   "execution_count": null,
   "metadata": {},
   "outputs": [],
   "source": []
  }
 ],
 "metadata": {
  "kernelspec": {
   "display_name": "Python 3",
   "language": "python",
   "name": "python3"
  },
  "language_info": {
   "codemirror_mode": {
    "name": "ipython",
    "version": 3
   },
   "file_extension": ".py",
   "mimetype": "text/x-python",
   "name": "python",
   "nbconvert_exporter": "python",
   "pygments_lexer": "ipython3",
   "version": "3.6.3"
  }
 },
 "nbformat": 4,
 "nbformat_minor": 2
}

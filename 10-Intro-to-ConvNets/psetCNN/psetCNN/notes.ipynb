{
 "cells": [
  {
   "cell_type": "code",
   "execution_count": 1,
   "metadata": {},
   "outputs": [],
   "source": [
    "import pickle, gzip\n",
    "import numpy as np\n",
    "import matplotlib.pyplot as plt\n",
    "\n",
    "f = gzip.open('mnist.pkl.gz', 'rb')\n",
    "train_set, valid_set, test_set = pickle.load(f ,encoding='latin1')\n",
    "f.close()"
   ]
  },
  {
   "cell_type": "code",
   "execution_count": 2,
   "metadata": {},
   "outputs": [
    {
     "data": {
      "image/png": "[encoded data removed]",
      "text/plain": [
       "<Figure size 432x288 with 1 Axes>"
      ]
     },
     "metadata": {
      "needs_background": "light"
     },
     "output_type": "display_data"
    }
   ],
   "source": [
    "image0 = train_set[0][0]\n",
    "image0 = image0.reshape((28, 28))\n",
    "\n",
    "plt.imshow(image0, cmap='gray')\n",
    "plt.show()"
   ]
  },
  {
   "cell_type": "code",
   "execution_count": 3,
   "metadata": {},
   "outputs": [
    {
     "name": "stderr",
     "output_type": "stream",
     "text": [
      "/home/akera/.local/lib/python3.5/site-packages/sklearn/linear_model/stochastic_gradient.py:166: FutureWarning: max_iter and tol parameters have been added in Perceptron in 0.19. If both are left unset, they default to max_iter=5 and tol=None. If tol is not None, max_iter defaults to max_iter=1000. From 0.21, default max_iter will be 1000, and default tol will be 1e-3.\n",
      "  FutureWarning)\n"
     ]
    },
    {
     "name": "stdout",
     "output_type": "stream",
     "text": [
      "              precision    recall  f1-score   support\n",
      "\n",
      "           0       0.96      0.95      0.95       991\n",
      "           1       0.97      0.95      0.96      1064\n",
      "           2       0.89      0.89      0.89       990\n",
      "           3       0.79      0.90      0.84      1030\n",
      "           4       0.96      0.80      0.88       983\n",
      "           5       0.97      0.50      0.66       915\n",
      "           6       0.92      0.95      0.94       967\n",
      "           7       0.87      0.95      0.91      1090\n",
      "           8       0.70      0.90      0.79      1009\n",
      "           9       0.81      0.88      0.85       961\n",
      "\n",
      "   micro avg       0.87      0.87      0.87     10000\n",
      "   macro avg       0.89      0.87      0.87     10000\n",
      "weighted avg       0.88      0.87      0.87     10000\n",
      "\n"
     ]
    }
   ],
   "source": [
    "from sklearn.linear_model import Perceptron\n",
    "clf = Perceptron()\n",
    "clf.fit(train_set[0], train_set[1])\n",
    "pred_v = clf.predict(valid_set[0])\n",
    "from sklearn.metrics import classification_report\n",
    "print(classification_report(valid_set[1], pred_v))"
   ]
  },
  {
   "cell_type": "code",
   "execution_count": 4,
   "metadata": {},
   "outputs": [],
   "source": [
    "def transform_y_vectors(y_vec, new_dim=10):\n",
    "    l = len(y_vec)\n",
    "    new_y = np.zeros((l, new_dim))\n",
    "    for i, y_val in enumerate(y_vec):\n",
    "        new_y[i][y_val] = 1\n",
    "    \n",
    "    return new_y"
   ]
  },
  {
   "cell_type": "code",
   "execution_count": 5,
   "metadata": {},
   "outputs": [
    {
     "name": "stderr",
     "output_type": "stream",
     "text": [
      "Using TensorFlow backend.\n"
     ]
    },
    {
     "name": "stdout",
     "output_type": "stream",
     "text": [
      "WARNING:tensorflow:From /home/akera/.local/lib/python3.5/site-packages/tensorflow/python/framework/op_def_library.py:263: colocate_with (from tensorflow.python.framework.ops) is deprecated and will be removed in a future version.\n",
      "Instructions for updating:\n",
      "Colocations handled automatically by placer.\n",
      "WARNING:tensorflow:From /home/akera/.local/lib/python3.5/site-packages/tensorflow/python/ops/math_ops.py:3066: to_int32 (from tensorflow.python.ops.math_ops) is deprecated and will be removed in a future version.\n",
      "Instructions for updating:\n",
      "Use tf.cast instead.\n",
      "Epoch 1/10\n",
      "50000/50000 [==============================] - 7s 140us/step - loss: 0.6710 - acc: 0.8119\n",
      "Epoch 2/10\n",
      "50000/50000 [==============================] - 6s 128us/step - loss: 0.2777 - acc: 0.9206\n",
      "Epoch 3/10\n",
      "50000/50000 [==============================] - 7s 133us/step - loss: 0.2174 - acc: 0.9373\n",
      "Epoch 4/10\n",
      "50000/50000 [==============================] - 6s 129us/step - loss: 0.1795 - acc: 0.9473\n",
      "Epoch 5/10\n",
      "50000/50000 [==============================] - 6s 126us/step - loss: 0.1526 - acc: 0.9558\n",
      "Epoch 6/10\n",
      "50000/50000 [==============================] - 6s 126us/step - loss: 0.1323 - acc: 0.9619\n",
      "Epoch 7/10\n",
      "50000/50000 [==============================] - 6s 127us/step - loss: 0.1161 - acc: 0.9660\n",
      "Epoch 8/10\n",
      "50000/50000 [==============================] - 6s 128us/step - loss: 0.1032 - acc: 0.9705\n",
      "Epoch 9/10\n",
      "50000/50000 [==============================] - 6s 126us/step - loss: 0.0919 - acc: 0.9739\n",
      "Epoch 10/10\n",
      "50000/50000 [==============================] - 6s 125us/step - loss: 0.0827 - acc: 0.9762\n",
      "10000/10000 [==============================] - 0s 27us/step\n",
      "Loss on valid set:0.10325402845144271 Accuracy on valid set: 0.9708\n"
     ]
    }
   ],
   "source": [
    "from keras.models import Sequential\n",
    "from keras.layers import Dense, Activation\n",
    "\n",
    "train_set_label = transform_y_vectors(train_set[1])\n",
    "valid_set_label = transform_y_vectors(valid_set[1])\n",
    "\n",
    "model = Sequential()\n",
    "model.add(Dense(units=256, input_dim=784))\n",
    "model.add(Activation('relu'))\n",
    "model.add(Dense(units=128))\n",
    "model.add(Activation('relu'))\n",
    "model.add(Dense(units=56))\n",
    "model.add(Activation('relu'))\n",
    "model.add(Dense(units=10))\n",
    "model.add(Activation('softmax'))\n",
    "\n",
    "model.compile(loss='categorical_crossentropy',\n",
    "              optimizer='sgd',\n",
    "              metrics=['accuracy'])\n",
    "\n",
    "model.fit(train_set[0], train_set_label,epochs=10, batch_size=32)\n",
    "\n",
    "result = model.evaluate(valid_set[0], valid_set_label, batch_size=128)\n",
    "\n",
    "print (\"Loss on valid set:\"  + str(result[0]) + \" Accuracy on valid set: \" + str(result[1]))"
   ]
  },
  {
   "cell_type": "code",
   "execution_count": 6,
   "metadata": {},
   "outputs": [],
   "source": [
    "def unpickle(file):\n",
    "    import pickle\n",
    "    with open(file, 'rb') as fo:\n",
    "        dict = pickle.load(fo ,encoding='latin1')#, encoding='bytes')\n",
    "    return dict"
   ]
  },
  {
   "cell_type": "code",
   "execution_count": 10,
   "metadata": {},
   "outputs": [],
   "source": [
    "# cifar10 = unpickle('../../../cifar-10-batches-py/data_batch_1')\n",
    "cifar10 = unpickle('../../cifar-10-batches-py/data_batch_1')\n",
    "cimage = cifar10['data']\n",
    "clabel = cifar10['labels']\n",
    "\n",
    "for i in range(2, 6):\n",
    "    cifar10 = unpickle('../../cifar-10-batches-py/data_batch_'+str(i))\n",
    "    cimage = np.concatenate((cimage, cifar10['data']))\n",
    "    clabel = np.concatenate((clabel, cifar10['labels']))"
   ]
  },
  {
   "cell_type": "code",
   "execution_count": 11,
   "metadata": {},
   "outputs": [],
   "source": [
    "from sklearn.model_selection import train_test_split\n",
    "cimage_t, cimage_v, clabel_t, clabel_v = train_test_split(cimage, clabel, test_size=0.2)"
   ]
  },
  {
   "cell_type": "code",
   "execution_count": 12,
   "metadata": {},
   "outputs": [
    {
     "name": "stderr",
     "output_type": "stream",
     "text": [
      "/home/akera/.local/lib/python3.5/site-packages/sklearn/linear_model/stochastic_gradient.py:166: FutureWarning: max_iter and tol parameters have been added in Perceptron in 0.19. If both are left unset, they default to max_iter=5 and tol=None. If tol is not None, max_iter defaults to max_iter=1000. From 0.21, default max_iter will be 1000, and default tol will be 1e-3.\n",
      "  FutureWarning)\n"
     ]
    },
    {
     "name": "stdout",
     "output_type": "stream",
     "text": [
      "              precision    recall  f1-score   support\n",
      "\n",
      "           0       0.29      0.00      0.01      1016\n",
      "           1       0.61      0.24      0.34       998\n",
      "           2       0.12      0.86      0.22      1018\n",
      "           3       0.22      0.01      0.02      1008\n",
      "           4       0.50      0.00      0.01       958\n",
      "           5       0.31      0.08      0.13      1030\n",
      "           6       0.51      0.03      0.06      1026\n",
      "           7       0.58      0.03      0.05       979\n",
      "           8       0.28      0.58      0.38       974\n",
      "           9       0.57      0.05      0.09       993\n",
      "\n",
      "   micro avg       0.19      0.19      0.19     10000\n",
      "   macro avg       0.40      0.19      0.13     10000\n",
      "weighted avg       0.40      0.19      0.13     10000\n",
      "\n"
     ]
    }
   ],
   "source": [
    "from sklearn.linear_model import Perceptron\n",
    "clf = Perceptron()\n",
    "clf.fit(cimage_t, clabel_t)\n",
    "pred_v = clf.predict(cimage_v)\n",
    "from sklearn.metrics import classification_report\n",
    "print(classification_report(clabel_v, pred_v))"
   ]
  },
  {
   "cell_type": "code",
   "execution_count": 13,
   "metadata": {},
   "outputs": [
    {
     "name": "stdout",
     "output_type": "stream",
     "text": [
      "Epoch 1/10\n",
      "40000/40000 [==============================] - 132s 3ms/step - loss: 14.5129 - acc: 0.0995\n",
      "Epoch 2/10\n",
      "40000/40000 [==============================] - 125s 3ms/step - loss: 14.5127 - acc: 0.0996\n",
      "Epoch 3/10\n",
      "40000/40000 [==============================] - 113s 3ms/step - loss: 14.5127 - acc: 0.0996\n",
      "Epoch 4/10\n",
      "40000/40000 [==============================] - 110s 3ms/step - loss: 14.5127 - acc: 0.0996\n",
      "Epoch 5/10\n",
      "40000/40000 [==============================] - 111s 3ms/step - loss: 14.5127 - acc: 0.0996\n",
      "Epoch 6/10\n",
      "40000/40000 [==============================] - 111s 3ms/step - loss: 14.5127 - acc: 0.0996\n",
      "Epoch 7/10\n",
      "40000/40000 [==============================] - 111s 3ms/step - loss: 14.5127 - acc: 0.0996\n",
      "Epoch 8/10\n",
      "40000/40000 [==============================] - 112s 3ms/step - loss: 14.5127 - acc: 0.0996\n",
      "Epoch 9/10\n",
      "40000/40000 [==============================] - 111s 3ms/step - loss: 14.5127 - acc: 0.0996\n",
      "Epoch 10/10\n",
      "40000/40000 [==============================] - 111s 3ms/step - loss: 14.5127 - acc: 0.0996\n",
      "10000/10000 [==============================] - 4s 428us/step\n",
      "Loss on valid set:14.480499957275391 Accuracy on valid set: 0.1016\n"
     ]
    }
   ],
   "source": [
    "from keras.models import Sequential\n",
    "from keras.layers import Dense, Activation\n",
    "\n",
    "clabel_t = transform_y_vectors(clabel_t)\n",
    "clabel_v = transform_y_vectors(clabel_v)\n",
    "\n",
    "model = Sequential()\n",
    "model.add(Dense(units=2048, input_dim=3072))\n",
    "model.add(Activation('relu'))\n",
    "model.add(Dense(units=1024))\n",
    "model.add(Activation('relu'))\n",
    "model.add(Dense(units=512))\n",
    "model.add(Activation('relu'))\n",
    "model.add(Dense(units=256))\n",
    "model.add(Activation('relu'))\n",
    "model.add(Dense(units=10))\n",
    "model.add(Activation('softmax'))\n",
    "\n",
    "model.compile(loss='categorical_crossentropy',\n",
    "              optimizer='sgd',\n",
    "              metrics=['accuracy'])\n",
    "\n",
    "model.fit(cimage_t, clabel_t,epochs=10, batch_size=32)\n",
    "\n",
    "result = model.evaluate(cimage_v, clabel_v, batch_size=128)\n",
    "\n",
    "print (\"Loss on valid set:\"  + str(result[0]) + \" Accuracy on valid set: \" + str(result[1]))"
   ]
  },
  {
   "cell_type": "code",
   "execution_count": null,
   "metadata": {},
   "outputs": [],
   "source": []
  }
 ],
 "metadata": {
  "kernelspec": {
   "display_name": "Python 3",
   "language": "python",
   "name": "python3"
  },
  "language_info": {
   "codemirror_mode": {
    "name": "ipython",
    "version": 3
   },
   "file_extension": ".py",
   "mimetype": "text/x-python",
   "name": "python",
   "nbconvert_exporter": "python",
   "pygments_lexer": "ipython3",
   "version": "3.5.2"
  }
 },
 "nbformat": 4,
 "nbformat_minor": 2
}

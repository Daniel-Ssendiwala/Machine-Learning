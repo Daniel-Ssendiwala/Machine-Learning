{
 "cells": [
  {
   "cell_type": "markdown",
   "metadata": {},
   "source": [
    "## Simple Neural Network in Numpy"
   ]
  },
  {
   "cell_type": "code",
   "execution_count": 26,
   "metadata": {},
   "outputs": [],
   "source": [
    "import numpy as np\n",
    "np.random.seed(1)"
   ]
  },
  {
   "cell_type": "code",
   "execution_count": 27,
   "metadata": {},
   "outputs": [],
   "source": [
    "# relu sets all negative numbers to 0\n",
    "def relu(x):\n",
    "    return (x > 0) *x\n",
    "\n",
    "# relu2 derive returns 1 for input >0, otehrwise return 0\n",
    "def relu2deriv(output):\n",
    "    return output >0\n",
    "\n",
    "learning_rate = 0.1\n",
    "weights = np.array([0.5,0.48,-0.7])"
   ]
  },
  {
   "cell_type": "code",
   "execution_count": 28,
   "metadata": {},
   "outputs": [],
   "source": [
    "hidden_size = 4"
   ]
  },
  {
   "cell_type": "code",
   "execution_count": 29,
   "metadata": {},
   "outputs": [],
   "source": [
    "streetlights = np.array([[1,0,1],\n",
    "                      [0,1,1],\n",
    "                       [0,0,1],\n",
    "                       [1,1,1],\n",
    "                       [0,1,1],\n",
    "                       [1,0,1]])"
   ]
  },
  {
   "cell_type": "code",
   "execution_count": 30,
   "metadata": {},
   "outputs": [],
   "source": [
    "walk_vs_stop = np.array([[0],\n",
    "                        [1],\n",
    "                        [0],\n",
    "                        [1],\n",
    "                        [1],\n",
    "                        [0]])"
   ]
  },
  {
   "cell_type": "code",
   "execution_count": 49,
   "metadata": {},
   "outputs": [],
   "source": [
    "## initialize the weights randomly\n",
    "\n",
    "weights_0_1 = 2*np.random.random((3, hidden_size)) - 1\n",
    "weights_1_2 = 2*np.random.random((hidden_size,1)) - 1\n",
    "\n",
    "layer_0 = streetlights[0]\n",
    "layer_1 = relu(np.dot(layer_0, weights_0_1))\n",
    "layer_2 = np.dot(layer_1, weights_1_2)"
   ]
  },
  {
   "cell_type": "code",
   "execution_count": 32,
   "metadata": {},
   "outputs": [],
   "source": [
    "input = streetlights[0]\n",
    "\n",
    "goal_prediction = walk_vs_stop[0]"
   ]
  },
  {
   "cell_type": "code",
   "execution_count": 33,
   "metadata": {},
   "outputs": [],
   "source": [
    "# for iteration in range(20):\n",
    "#     prediction = input.dot(weights)\n",
    "#     error = (goal_prediction - prediction)**2\n",
    "#     delta = prediction - goal_prediction\n",
    "#     weights = weights - (learning_rate * (input*delta))\n",
    "    \n",
    "#     print(\"Error:\" + str(error) + \" Prediction: \" + str(prediction))\n",
    "    "
   ]
  },
  {
   "cell_type": "code",
   "execution_count": 34,
   "metadata": {},
   "outputs": [
    {
     "name": "stdout",
     "output_type": "stream",
     "text": [
      "Prediction:-0.19999999999999996\n",
      "Prediction:-0.19999999999999996\n",
      "Prediction:-0.5599999999999999\n",
      "Prediction:0.6160000000000001\n",
      "Prediction:0.17279999999999995\n",
      "Prediction:0.17552\n",
      "Error:[2.65612311]\n",
      "\n",
      "Weights: [ 0.540848  0.72112  -0.400432]\n",
      "Prediction:0.14041599999999999\n",
      "Prediction:0.3066464\n",
      "Prediction:-0.34513824\n",
      "Prediction:1.006637344\n",
      "Prediction:0.4785034751999999\n",
      "Prediction:0.26700416768\n",
      "Error:[0.96287018]\n",
      "\n",
      "Weights: [ 0.49944225  0.84194128 -0.28583891]\n",
      "Prediction:0.213603334144\n",
      "Prediction:0.5347420299776\n",
      "Prediction:-0.26067345110016\n",
      "Prediction:1.1319428845096962\n",
      "Prediction:0.6274723921901568\n",
      "Prediction:0.25433999330650114\n",
      "Error:[0.55091659]\n",
      "\n",
      "Weights: [ 0.43945363  0.91252555 -0.23598163]\n",
      "Prediction:0.20347199464520088\n",
      "Prediction:0.6561967149569552\n",
      "Prediction:-0.221948503950995\n",
      "Prediction:1.166258650532124\n",
      "Prediction:0.7139004922542389\n",
      "Prediction:0.21471099528371604\n",
      "Error:[0.36445837]\n",
      "\n",
      "Weights: [ 0.38100946  0.95888996 -0.20924067]\n",
      "Prediction:0.17176879622697283\n",
      "Prediction:0.7324724146523222\n",
      "Prediction:-0.19966478845083285\n",
      "Prediction:1.1697769945341199\n",
      "Prediction:0.7719890116601171\n",
      "Prediction:0.17297997428859369\n",
      "Error:[0.25167687]\n",
      "\n",
      "Weights: [ 0.32955689  0.99146612 -0.19117291]\n",
      "Prediction:0.13838397943087496\n",
      "Prediction:0.7864548139561468\n",
      "Prediction:-0.1836567869927348\n",
      "Prediction:1.163248019006011\n",
      "Prediction:0.8148799260629888\n",
      "Prediction:0.1362897844408577\n",
      "Error:[0.17797575]\n",
      "\n",
      "Weights: [ 0.28576471  1.01500784 -0.17673288]\n",
      "Prediction:0.10903182755268614\n",
      "Prediction:0.8273717796510367\n",
      "Prediction:-0.17037324196481937\n",
      "Prediction:1.1537962739591756\n",
      "Prediction:0.8481754931254761\n",
      "Prediction:0.1059488041691444\n",
      "Error:[0.12864461]\n",
      "\n",
      "Weights: [ 0.24888702  1.03207349 -0.16412797]\n",
      "Prediction:0.0847590433353155\n",
      "Prediction:0.859469609749935\n",
      "Prediction:-0.1585508402022421\n",
      "Prediction:1.1438418857156731\n",
      "Prediction:0.8746623946770374\n",
      "Prediction:0.08148074110264475\n",
      "Error:[0.09511037]\n",
      "\n",
      "Weights: [ 0.21787885  1.0442761  -0.15269426]\n",
      "Prediction:0.06518459288211581\n",
      "Prediction:0.8850633823431538\n",
      "Prediction:-0.14771905585408038\n",
      "Prediction:1.1341830033853888\n",
      "Prediction:0.8959860107828534\n",
      "Prediction:0.0619780399014222\n",
      "Error:[0.07194564]\n",
      "\n",
      "Weights: [ 0.19174429  1.05275286 -0.14216186]\n",
      "Prediction:0.04958243192113776\n",
      "Prediction:0.9056327614440267\n",
      "Prediction:-0.13768337501215525\n",
      "Prediction:1.1250605910610996\n",
      "Prediction:0.9132624284442169\n",
      "Prediction:0.04653264583708144\n",
      "Error:[0.05564915]\n",
      "\n",
      "Weights: [ 0.16962672  1.05835728 -0.1324006 ]\n",
      "Prediction:0.03722611666966513\n",
      "Prediction:0.922234066504699\n",
      "Prediction:-0.12834662236261596\n",
      "Prediction:1.116526024487899\n",
      "Prediction:0.9273167105424409\n",
      "Prediction:0.03435527296969987\n",
      "Error:[0.04394764]\n",
      "\n",
      "Weights: [ 0.15081598  1.0617496  -0.12333176]\n",
      "Prediction:0.027484218375759886\n",
      "Prediction:0.9356694192994068\n",
      "Prediction:-0.11964712469387503\n",
      "Prediction:1.1085678053734553\n",
      "Prediction:0.9387866868342218\n",
      "Prediction:0.024792915481941458\n",
      "Error:[0.03535797]\n",
      "\n",
      "Weights: [ 0.13473149  1.06344721 -0.11489715]\n",
      "Prediction:0.019834332385553155\n",
      "Prediction:0.946566624680628\n",
      "Prediction:-0.11153724870006754\n",
      "Prediction:1.1011550767549563\n",
      "Prediction:0.948176009263518\n",
      "Prediction:0.017315912033043404\n",
      "Error:[0.028907]\n",
      "\n",
      "Weights: [ 0.12090095  1.06385744 -0.10704822]\n",
      "Prediction:0.013852729626434732\n",
      "Prediction:0.9554239432448665\n",
      "Prediction:-0.10397589092234266\n",
      "Prediction:1.0942524239871314\n",
      "Prediction:0.9558862588907013\n",
      "Prediction:0.011498267782398985\n",
      "Error:[0.02395166]\n",
      "\n",
      "Weights: [ 0.10894061  1.06330118 -0.099742  ]\n",
      "Prediction:0.009198614225919194\n",
      "Prediction:0.9626393189117293\n",
      "Prediction:-0.09692579020989642\n",
      "Prediction:1.087824783849832\n",
      "Prediction:0.9622390773804066\n",
      "Prediction:0.006998674002545002\n",
      "Error:[0.02006311]\n",
      "\n",
      "Weights: [ 0.0985384   1.06203086 -0.09293946]\n",
      "Prediction:0.005598939202035996\n",
      "Prediction:0.9685315005838672\n",
      "Prediction:-0.09035250869077546\n",
      "Prediction:1.0818389613301889\n",
      "Prediction:0.9674926590701334\n",
      "Prediction:0.003544193999268516\n",
      "Error:[0.01695209]\n",
      "\n",
      "Weights: [ 0.08944019  1.06024455 -0.08660484]\n",
      "Prediction:0.0028353551994148157\n",
      "Prediction:0.9733561723362383\n",
      "Prediction:-0.0842239920152223\n",
      "Prediction:1.0762639960116431\n",
      "Prediction:0.9718545378681842\n",
      "Prediction:0.0009168131382832068\n",
      "Error:[0.01442082]\n",
      "\n",
      "Weights: [ 0.08143858  1.05809708 -0.08070513]\n",
      "Prediction:0.0007334505106265654\n",
      "Prediction:0.9773186039296565\n",
      "Prediction:-0.07851033295953944\n",
      "Prediction:1.0710711494147542\n",
      "Prediction:0.9754916865567282\n",
      "Prediction:-0.0010574652271341245\n",
      "Error:[0.01233174]\n",
      "\n",
      "Weights: [ 0.07436386  1.05570893 -0.07520984]\n",
      "Prediction:-0.0008459721817072885\n",
      "Prediction:0.9805836929862668\n",
      "Prediction:-0.07318360881847627\n",
      "Prediction:1.066233777045345\n",
      "Prediction:0.9785385598617921\n",
      "Prediction:-0.0025173975573930946\n",
      "Error:[0.01058739]\n",
      "\n",
      "Weights: [ 0.06807682  1.05317333 -0.07009074]\n",
      "Prediction:-0.002013918045914484\n",
      "Prediction:0.9832839794497644\n",
      "Prediction:-0.06821774801198803\n",
      "Prediction:1.0617271739912904\n",
      "Prediction:0.9811035235627523\n",
      "Prediction:-0.0035735447350425317\n",
      "Error:[0.00911723]\n",
      "\n",
      "Weights: [ 0.06246285  1.05056186 -0.06532169]\n"
     ]
    }
   ],
   "source": [
    "for iteration in range(20):\n",
    "    error_for_all_lights = 0\n",
    "    \n",
    "    for row_index in range(len(walk_vs_stop)):\n",
    "        input = streetlights[row_index]\n",
    "        \n",
    "        goal_prediction = walk_vs_stop[row_index]\n",
    "        \n",
    "        prediction = input.dot(weights)\n",
    "        \n",
    "        error = (goal_prediction - prediction)**2\n",
    "        \n",
    "        error_for_all_lights = error_for_all_lights +  error        \n",
    "        \n",
    "        delta = prediction - goal_prediction    \n",
    "        \n",
    "        weights = weights - (learning_rate * (input*delta))\n",
    "        \n",
    "        print(\"Prediction:\" + str(prediction))\n",
    "    print(\"Error:\" + str(error_for_all_lights) + \"\\n\")\n",
    "    print(\"Weights: \" + str(weights))"
   ]
  },
  {
   "cell_type": "code",
   "execution_count": 35,
   "metadata": {},
   "outputs": [],
   "source": [
    "# for iteration in range(60):\n",
    "#     layer_2_error = 0\n",
    "    \n",
    "#     for i in range(len(streetlights)):\n",
    "#         layer_0 = streetlights[i:i+1]\n",
    "#         layer_1 = relu(np.dot(layer_0, weights_0_1))\n",
    "#         layer_2 = np.dot(layer_1, weights_1_2)\n",
    "        \n",
    "#         layer_2_error += np.sum((layer_2 - walk_vs_stop[i:i+1]) ** 2)\n",
    "       \n",
    "#         layer_2_delta = (layer_2 - walk_vs_stop[i:i+1])\n",
    "#         layer_1_delta = layer_2_delta.dot(weights_1_2.T) * relu2deriv(layer1)\n",
    "        \n",
    "#         weights_1_2 -= learning_rate*layer_1.T.dot(layer_2_delta)\n",
    "#         weights_0_1 -= learning_rate * layer_0.T.dot(layer_1_delta)\n",
    "        \n",
    "#     if(iteration %10 == 9):\n",
    "#         print(\"Error\" + str(layer_2_error))\n"
   ]
  },
  {
   "cell_type": "markdown",
   "metadata": {},
   "source": [
    "## Deep Neural Network In Numpy"
   ]
  },
  {
   "cell_type": "code",
   "execution_count": 50,
   "metadata": {},
   "outputs": [
    {
     "name": "stdout",
     "output_type": "stream",
     "text": [
      "Error:0.7508568248451376\n",
      "Error:0.5419725893582122\n",
      "Error:0.45245811639182343\n",
      "Error:0.31328400775211834\n",
      "Error:0.17946259471544115\n",
      "Error:0.08081748098257939\n",
      "[[0.05739491]]\n"
     ]
    }
   ],
   "source": [
    "import numpy as np\n",
    "\n",
    "np.random.seed(1)\n",
    "\n",
    "def relu(x):\n",
    "    return (x > 0) * x # returns x if x > 0\n",
    "                       # return 0 otherwise\n",
    "\n",
    "def relu2deriv(output):\n",
    "    return output>0 # returns 1 for input > 0\n",
    "                    # return 0 otherwise\n",
    "\n",
    "streetlights = np.array( [[ 1, 0, 1 ],\n",
    "                          [ 0, 1, 1 ],\n",
    "                          [ 0, 0, 1 ],\n",
    "                          [ 1, 1, 1 ] ] )\n",
    "\n",
    "walk_vs_stop = np.array([[ 1, 1, 0, 0]]).T\n",
    "    \n",
    "alpha = 0.2\n",
    "hidden_size = 4\n",
    "\n",
    "weights_0_1 = 2*np.random.random((3,hidden_size)) - 1\n",
    "weights_1_2 = 2*np.random.random((hidden_size,1)) - 1\n",
    "\n",
    "for iteration in range(60):\n",
    "    layer_2_error = 0\n",
    "    for i in range(len(streetlights)):\n",
    "        layer_0 = streetlights[i:i+1]\n",
    "        layer_1 = relu(np.dot(layer_0,weights_0_1))\n",
    "        layer_2 = np.dot(layer_1,weights_1_2)\n",
    "        \n",
    "        layer_2_error += np.sum((layer_2 - walk_vs_stop[i:i+1]) ** 2)\n",
    "\n",
    "        layer_2_delta = (layer_2 - walk_vs_stop[i:i+1])\n",
    "        \n",
    "        layer_1_delta=layer_2_delta.dot(weights_1_2.T)*relu2deriv(layer_1)\n",
    "        \n",
    "        weights_1_2 -= learning_rate * layer_1.T.dot(layer_2_delta)\n",
    "        \n",
    "        weights_0_1 -= learning_rate * layer_0.T.dot(layer_1_delta)\n",
    "     \n",
    "    \n",
    "    if(iteration % 10 == 9):\n",
    "        print(\"Error:\" + str(layer_2_error))\n",
    "\n",
    "print(layer_2)"
   ]
  },
  {
   "cell_type": "markdown",
   "metadata": {},
   "source": [
    "# Solving the same problem with Keras "
   ]
  },
  {
   "cell_type": "code",
   "execution_count": 60,
   "metadata": {},
   "outputs": [],
   "source": [
    "X = np.array([[1,0,1],\n",
    "                      [0,1,1],\n",
    "                       [0,0,1],\n",
    "                       [1,1,1],\n",
    "                       [0,1,1],\n",
    "                       [1,0,1]])"
   ]
  },
  {
   "cell_type": "code",
   "execution_count": 61,
   "metadata": {},
   "outputs": [],
   "source": [
    "y = np.array([[0],\n",
    "                        [1],\n",
    "                        [0],\n",
    "                        [1],\n",
    "                        [1],\n",
    "                        [0]])"
   ]
  },
  {
   "cell_type": "code",
   "execution_count": 62,
   "metadata": {},
   "outputs": [
    {
     "data": {
      "text/plain": [
       "(6, 3)"
      ]
     },
     "execution_count": 62,
     "metadata": {},
     "output_type": "execute_result"
    }
   ],
   "source": [
    "X.shape"
   ]
  },
  {
   "cell_type": "code",
   "execution_count": 63,
   "metadata": {},
   "outputs": [
    {
     "data": {
      "text/plain": [
       "array([[0],\n",
       "       [1],\n",
       "       [0],\n",
       "       [1],\n",
       "       [1],\n",
       "       [0]])"
      ]
     },
     "execution_count": 63,
     "metadata": {},
     "output_type": "execute_result"
    }
   ],
   "source": [
    "y"
   ]
  },
  {
   "cell_type": "code",
   "execution_count": 64,
   "metadata": {},
   "outputs": [],
   "source": [
    "import keras\n",
    "from keras.models import Sequential\n",
    "from keras.layers import Dense, Activation\n",
    "\n",
    "import matplotlib.pyplot as plt\n",
    "%matplotlib inline"
   ]
  },
  {
   "cell_type": "code",
   "execution_count": 65,
   "metadata": {},
   "outputs": [],
   "source": [
    "model = Sequential([\n",
    "    Dense(4, input_shape =(3,)),\n",
    "    Activation('relu'),\n",
    "    Dense(1),\n",
    "    Activation('sigmoid')\n",
    "])"
   ]
  },
  {
   "cell_type": "code",
   "execution_count": 66,
   "metadata": {},
   "outputs": [],
   "source": [
    "model.compile(optimizer='SGD', loss = 'mse', metrics=['mae', 'acc'])"
   ]
  },
  {
   "cell_type": "code",
   "execution_count": 72,
   "metadata": {},
   "outputs": [],
   "source": [
    "history = model.fit(X,y, epochs=40, verbose=False)"
   ]
  },
  {
   "cell_type": "code",
   "execution_count": 73,
   "metadata": {},
   "outputs": [
    {
     "name": "stdout",
     "output_type": "stream",
     "text": [
      "_________________________________________________________________\n",
      "Layer (type)                 Output Shape              Param #   \n",
      "=================================================================\n",
      "dense_5 (Dense)              (None, 4)                 16        \n",
      "_________________________________________________________________\n",
      "activation_5 (Activation)    (None, 4)                 0         \n",
      "_________________________________________________________________\n",
      "dense_6 (Dense)              (None, 1)                 5         \n",
      "_________________________________________________________________\n",
      "activation_6 (Activation)    (None, 1)                 0         \n",
      "=================================================================\n",
      "Total params: 21\n",
      "Trainable params: 21\n",
      "Non-trainable params: 0\n",
      "_________________________________________________________________\n"
     ]
    }
   ],
   "source": [
    "model.summary()"
   ]
  },
  {
   "cell_type": "code",
   "execution_count": 74,
   "metadata": {},
   "outputs": [
    {
     "name": "stdout",
     "output_type": "stream",
     "text": [
      "dict_keys(['loss', 'mean_absolute_error', 'acc'])\n"
     ]
    }
   ],
   "source": [
    "print(history.history.keys())"
   ]
  },
  {
   "cell_type": "code",
   "execution_count": 75,
   "metadata": {},
   "outputs": [],
   "source": [
    "loss_hist = history.history['loss']\n",
    "mae_hist = history.history['mean_absolute_error']\n",
    "acc_hist = history.history['acc']"
   ]
  },
  {
   "cell_type": "code",
   "execution_count": 76,
   "metadata": {},
   "outputs": [
    {
     "data": {
      "image/png": "[encoded data removed]",
      "text/plain": [
       "<Figure size 432x288 with 1 Axes>"
      ]
     },
     "metadata": {
      "needs_background": "light"
     },
     "output_type": "display_data"
    }
   ],
   "source": [
    "plt.plot(range(1,len(loss_hist)+1), loss_hist)\n",
    "plt.plot(range(1,len(mae_hist)+1), mae_hist)\n",
    "plt.plot(range(1,len(acc_hist)+1), acc_hist)\n",
    "\n",
    "plt.xlabel(\"Epochs\")\n",
    "plt.ylabel(\"Loss\")\n",
    "plt.legend(['loss'], loc = 'upper left')\n",
    "plt.show()"
   ]
  },
  {
   "cell_type": "code",
   "execution_count": 78,
   "metadata": {},
   "outputs": [],
   "source": [
    "## This code is based on the Book: Grokking Deep Learning By Andrew Trask \n",
    "##available here: https://www.manning.com/books/grokking-deep-learning"
   ]
  },
  {
   "cell_type": "code",
   "execution_count": null,
   "metadata": {},
   "outputs": [],
   "source": []
  }
 ],
 "metadata": {
  "kernelspec": {
   "display_name": "Python 3",
   "language": "python",
   "name": "python3"
  },
  "language_info": {
   "codemirror_mode": {
    "name": "ipython",
    "version": 3
   },
   "file_extension": ".py",
   "mimetype": "text/x-python",
   "name": "python",
   "nbconvert_exporter": "python",
   "pygments_lexer": "ipython3",
   "version": "3.6.7"
  }
 },
 "nbformat": 4,
 "nbformat_minor": 2
}

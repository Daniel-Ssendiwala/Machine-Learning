{
 "cells": [
  {
   "cell_type": "markdown",
   "metadata": {},
   "source": [
    "# Regression Assignment"
   ]
  },
  {
   "cell_type": "markdown",
   "metadata": {},
   "source": [
    "Instructions: Complete the different parts of this notebook by following the instructions for each question. Make sure each cell runs properly before you submit. Import any other python libraries that you think you may need.<br>\n",
    "Please make a copy of the notebook and add your groupname/name to the notebook e.g. Group1_Regression_Assignment.ipynb and push this notebook to the repo after completion.<br>"
   ]
  },
  {
   "cell_type": "markdown",
   "metadata": {},
   "source": [
    "Name: "
   ]
  },
  {
   "cell_type": "code",
   "execution_count": 1,
   "metadata": {},
   "outputs": [],
   "source": [
    "%matplotlib inline\n",
    "import numpy as np\n"
   ]
  },
  {
   "cell_type": "markdown",
   "metadata": {},
   "source": [
    "### Question 1: Write you answer to these questions - no coding here"
   ]
  },
  {
   "cell_type": "markdown",
   "metadata": {},
   "source": [
    "What is the gradient and the y-intercept for these lines:"
   ]
  },
  {
   "cell_type": "markdown",
   "metadata": {},
   "source": [
    "a. 7 + 4x = 67y - 23 + 3 <br>\n",
    "b. 5y = 4x + 3y - 43 <br>\n",
    "c. x = 6y + 34x + 12 <br>"
   ]
  },
  {
   "cell_type": "markdown",
   "metadata": {},
   "source": [
    "How does this linear hypothesis relate to a dataset with more than one feature, say 5 features ?"
   ]
  },
  {
   "cell_type": "markdown",
   "metadata": {},
   "source": [
    "Answer:"
   ]
  },
  {
   "cell_type": "markdown",
   "metadata": {},
   "source": [
    "Why is the error in regression calculated as a square ? Why is it also calculated as a mean ?"
   ]
  },
  {
   "cell_type": "markdown",
   "metadata": {},
   "source": [
    "Answer:"
   ]
  },
  {
   "cell_type": "markdown",
   "metadata": {},
   "source": [
    "### Question 2: Code up some related functions"
   ]
  },
  {
   "cell_type": "markdown",
   "metadata": {},
   "source": [
    "Complete this function here to calculate the gradient of a line given two points of the line. Points should be presented as numpy arrays."
   ]
  },
  {
   "cell_type": "code",
   "execution_count": null,
   "metadata": {
    "collapsed": true
   },
   "outputs": [],
   "source": [
    "def calculate_gradient(pt1, pt2):\n",
    "    # Calculate gradient of line given two points.\n",
    "    # Assume the pts are in the form (x,y), e.g. pt1 = np.array([-3,2])\n",
    "    \n",
    "    # Write your code here\n",
    "    \n",
    "    return gradient"
   ]
  },
  {
   "cell_type": "markdown",
   "metadata": {},
   "source": [
    "Complete the function below to get the output of a linear function given the gradient, the y-intercept and the value of x"
   ]
  },
  {
   "cell_type": "code",
   "execution_count": null,
   "metadata": {
    "collapsed": true
   },
   "outputs": [],
   "source": [
    "def linear_output(linegradient, y_intercept, x):\n",
    "    # Function returns the value of y\n",
    "    \n",
    "    # Write your code here\n",
    "    \n",
    "    return y"
   ]
  },
  {
   "cell_type": "markdown",
   "metadata": {},
   "source": [
    "Complete this function to calculate the euclidean distance between any two points (i.e the straightline distance)"
   ]
  },
  {
   "cell_type": "code",
   "execution_count": null,
   "metadata": {
    "collapsed": true
   },
   "outputs": [],
   "source": [
    "def calculate_euclidean_dist(pt1, pt2):\n",
    "    # Calculate euclidean distance between points\n",
    "    \n",
    "    # Write your code here\n",
    "    \n",
    "    return dist"
   ]
  },
  {
   "cell_type": "markdown",
   "metadata": {},
   "source": [
    "Put all these functions together to calculate the mean square error. Complete the functions below."
   ]
  },
  {
   "cell_type": "code",
   "execution_count": 4,
   "metadata": {
    "collapsed": true
   },
   "outputs": [],
   "source": [
    "# Given points of interest\n",
    "points = np.array([(0, -2), (1, 10), (2, 4), (3, 10), (4, 5), (5, 13)])"
   ]
  },
  {
   "cell_type": "code",
   "execution_count": 7,
   "metadata": {},
   "outputs": [],
   "source": [
    "# Given that we know these two points are on the linear regression line\n",
    "pt1 = np.array([1,1])\n",
    "pt2 = np.array([4,10])"
   ]
  },
  {
   "cell_type": "markdown",
   "metadata": {},
   "source": [
    "Use the functions you have completed above to calculate the mean square error of the points of interest *points* from the linear regression line through which those two points pt1 and pt2 pass."
   ]
  },
  {
   "cell_type": "code",
   "execution_count": null,
   "metadata": {
    "collapsed": true
   },
   "outputs": [],
   "source": [
    "def calculate_mse(points, pt1, pt2):\n",
    "    # Calculate the mse or points given a line defined by pt1 and pt2\n",
    "    \n",
    "    # write you code here (i.e. call other functions above to assist with this task)\n",
    "    \n",
    "    return meanSqError"
   ]
  },
  {
   "cell_type": "markdown",
   "metadata": {},
   "source": [
    "### Question 3: Given some data, use Sklearn to come up with a linear regression algorithm and obtain the mean square error"
   ]
  },
  {
   "cell_type": "markdown",
   "metadata": {},
   "source": [
    "Import the weatherhistory dataset from szeged-weather folder <br> "
   ]
  },
  {
   "cell_type": "markdown",
   "metadata": {},
   "source": [
    "Display the first 100 rows of the data"
   ]
  },
  {
   "cell_type": "markdown",
   "metadata": {},
   "source": [
    "Visualize the data\n",
    "*(Which is the best way to visualize alot of data 11x90000+)*<br>\n",
    "*Try different stuff*<br>\n",
    "*How can we best represent the daily summary, summary and precip type*"
   ]
  },
  {
   "cell_type": "markdown",
   "metadata": {
    "collapsed": true
   },
   "source": [
    "For this assingment, we shall consider only 2 columns i.e. Temperature vs Humidity<br>\n",
    "Load your datasets correctly i.e X=temperature and y=Humidity"
   ]
  },
  {
   "cell_type": "markdown",
   "metadata": {},
   "source": [
    "Define an Sklearn linear regression algorithm and train it with your training data. Your training data should be 80% and your test data should be 20%. Ensure you split your data and train on the training set and test on the testing set. "
   ]
  },
  {
   "cell_type": "code",
   "execution_count": null,
   "metadata": {
    "collapsed": true
   },
   "outputs": [],
   "source": [
    "def run_sklearn_regressor(X,y):\n",
    "    # Implement Sklearn regression algorithm to get the best fit of the data\n",
    "    \n",
    "    # write you code here (hint: ensure to import sklearn)\n",
    "    \n",
    "    return predicted_y, test_data_y"
   ]
  },
  {
   "cell_type": "markdown",
   "metadata": {},
   "source": [
    "Calculate different validation metrics to understand how your algorithm is performing. Use Sklearn for this."
   ]
  },
  {
   "cell_type": "code",
   "execution_count": null,
   "metadata": {
    "collapsed": true
   },
   "outputs": [],
   "source": [
    "def calculate_mean_square_error(predicted_y, test_data_y):\n",
    "    # read the officil sklearn documentation\n",
    "    #write your code here\n",
    "    \n",
    "    return msqError"
   ]
  },
  {
   "cell_type": "code",
   "execution_count": null,
   "metadata": {
    "collapsed": true
   },
   "outputs": [],
   "source": [
    "def calculate_mean_absolute_error(predicted_y, test_data_y):\n",
    "    \n",
    "    #write your code here\n",
    "    \n",
    "    return mabsError"
   ]
  },
  {
   "cell_type": "code",
   "execution_count": null,
   "metadata": {
    "collapsed": true
   },
   "outputs": [],
   "source": [
    "def calculate_rsquared(predicted_y, test_data_y):\n",
    "    \n",
    "    #write your code here\n",
    "    \n",
    "    return rsquared"
   ]
  }
 ],
 "metadata": {
  "kernelspec": {
   "display_name": "Python 3",
   "language": "python",
   "name": "python3"
  },
  "language_info": {
   "codemirror_mode": {
    "name": "ipython",
    "version": 3
   },
   "file_extension": ".py",
   "mimetype": "text/x-python",
   "name": "python",
   "nbconvert_exporter": "python",
   "pygments_lexer": "ipython3",
   "version": "3.6.8"
  }
 },
 "nbformat": 4,
 "nbformat_minor": 1
}
